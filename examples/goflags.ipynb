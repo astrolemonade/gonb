{
 "cells": [
  {
   "cell_type": "code",
   "execution_count": 2,
   "id": "5264a66e-1966-4d3e-a280-bf0b8d304f91",
   "metadata": {},
   "outputs": [
    {
     "data": {
      "text/markdown": [
       "* `%goflags=[\"-gcflags=-m\"]`"
      ]
     },
     "metadata": {},
     "output_type": "display_data"
    }
   ],
   "source": [
    "%goflags -gcflags=-m"
   ]
  },
  {
   "cell_type": "code",
   "execution_count": 3,
   "id": "b9c6dd42-649a-4c2a-8d58-83ed0479b560",
   "metadata": {},
   "outputs": [
    {
     "data": {
      "text/markdown": [
       "* `%goflags=[\"-gcflags=-m\"]`"
      ]
     },
     "metadata": {},
     "output_type": "display_data"
    }
   ],
   "source": [
    "%goflags"
   ]
  },
  {
   "cell_type": "code",
   "execution_count": 4,
   "id": "4a69b5c4-31fe-415e-a35f-90bf5be6cce7",
   "metadata": {},
   "outputs": [
    {
     "data": {
      "text/markdown": [
       "* `%goflags=[]`"
      ]
     },
     "metadata": {},
     "output_type": "display_data"
    }
   ],
   "source": [
    "// Clear %goflags\n",
    "%goflags \"\""
   ]
  },
  {
   "cell_type": "code",
   "execution_count": 5,
   "id": "035d1bbc-44d3-450d-ad46-f42d464e7f6d",
   "metadata": {},
   "outputs": [
    {
     "data": {
      "text/markdown": [
       "* `%goflags=[\"-gcflags=-m\"]`"
      ]
     },
     "metadata": {},
     "output_type": "display_data"
    }
   ],
   "source": [
    "%goflags -gcflags=-m"
   ]
  },
  {
   "cell_type": "code",
   "execution_count": 6,
   "id": "d3b2bb37-f451-41ec-86f9-985fda4de4f2",
   "metadata": {},
   "outputs": [
    {
     "name": "stdout",
     "output_type": "stream",
     "text": [
      "7\n"
     ]
    }
   ],
   "source": [
    "type Point struct{ X, Y float64}\n",
    "\n",
    "func (p *Point) ManhattanLen() float64 {\n",
    "    return p.X + p.Y\n",
    "}\n",
    "\n",
    "%%\n",
    "p := Point{3,4}\n",
    "fmt.Println(p.ManhattanLen())"
   ]
  },
  {
   "cell_type": "code",
   "execution_count": 8,
   "id": "49082319-19a5-4715-b6de-9373780ba727",
   "metadata": {},
   "outputs": [
    {
     "name": "stderr",
     "output_type": "stream",
     "text": [
      "# gonb_c672d89b\n",
      "./main.go:10:6: can inline (*Point).ManhattanLen\n",
      "./main.go:16:12: inlining call to flag.Parse\n",
      "./main.go:18:28: inlining call to (*Point).ManhattanLen\n",
      "./main.go:18:13: inlining call to fmt.Println\n",
      "./main.go:10:7: p does not escape\n",
      "./main.go:18:13: ... argument does not escape\n",
      "./main.go:18:28: ~R0 escapes to heap\n"
     ]
    }
   ],
   "source": [
    "!*go build -gcflags=-m"
   ]
  }
 ],
 "metadata": {
  "kernelspec": {
   "display_name": "Go (gonb)",
   "language": "go",
   "name": "gonb"
  },
  "language_info": {
   "codemirror_mode": "",
   "file_extension": ".go",
   "mimetype": "",
   "name": "go",
   "nbconvert_exporter": "",
   "pygments_lexer": "",
   "version": "go1.21.0"
  }
 },
 "nbformat": 4,
 "nbformat_minor": 5
}
