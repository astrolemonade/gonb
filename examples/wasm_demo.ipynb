{
 "cells": [
  {
   "cell_type": "markdown",
   "id": "dd4ed7c1-700d-4985-8d01-91889b76ddef",
   "metadata": {},
   "source": [
    "# [GoNB](https://github.com/janpfeifer/gonb) WASM (WebAssembly) Examples "
   ]
  },
  {
   "cell_type": "markdown",
   "id": "d5a6e431-18aa-4dd7-9dad-ead67a58f69c",
   "metadata": {},
   "source": [
    "### Flag Parsing in Wasm\n",
    "\n",
    "**GoNB** exports arguments passed in a slice for Wasm programs in the global variable `GonbWasmArgs`.\n",
    "\n",
    "This allows for parsing into flags where desired:"
   ]
  },
  {
   "cell_type": "code",
   "execution_count": 2,
   "id": "2a953aef-a046-41a9-8191-b36cfd871a7e",
   "metadata": {},
   "outputs": [
    {
     "name": "stdout",
     "output_type": "stream",
     "text": [
      "\t- Added replace rule for module \"github.com/janpfeifer/gonb\" to local directory \"/home/janpf/Projects/gonb\".\n"
     ]
    }
   ],
   "source": [
    "!*rm -f go.work && go work init\n",
    "!*go work use . \"${HOME}/Projects/gonb\"\n",
    "%goworkfix"
   ]
  },
  {
   "cell_type": "code",
   "execution_count": 3,
   "id": "dfee138f-1af9-4ca2-b8fb-74cda9b1fb3f",
   "metadata": {},
   "outputs": [
    {
     "data": {
      "text/html": [
       "<div id=\"gonb_id_3a2c4d76\"></div><script src=\"/files/jupyter_files/d514976b/wasm_exec.js\"></script>"
      ]
     },
     "execution_count": 3,
     "metadata": {},
     "output_type": "execute_result"
    },
    {
     "data": {
      "text/javascript": [
       "\n",
       "(() => {\n",
       "\tvar go_d514976b = new globalThis.Go();\n",
       "\tgo_d514976b.argv = [\"js\"].concat([\"--name=World\", ]);\n",
       "\tconsole.log(\"argv=\"+go_d514976b.argv);\n",
       "\tWebAssembly.instantiateStreaming(fetch(\"/files/jupyter_files/d514976b/gonb_cell.wasm\"), go_d514976b.importObject).\n",
       "\t\tthen((result) => { go_d514976b.run(result.instance); });\n",
       "})();\n"
      ]
     },
     "execution_count": 3,
     "metadata": {},
     "output_type": "execute_result"
    }
   ],
   "source": [
    "%wasm\n",
    "import (\n",
    "    \"flag\"\n",
    "    \"fmt\"\n",
    "    \"os\"\n",
    "    \n",
    "    \"github.com/janpfeifer/gonb/gonbui/wasm\"\n",
    ")\n",
    "\n",
    "var flagName = flag.String(\"name\", \"\", \"enter your name\")\n",
    "\n",
    "%% --name=World\n",
    "fmt.Printf(\"os.Args=%v\\n\", os.Args)\n",
    "flag.Parse()\n",
    "fmt.Printf(\"--name=%s\\n\", *flagName)\n",
    "// wasm.ParseFlags(GonbWasmArgs)  // Parse flags form the args passed in GonbWasmArgs.\n",
    "wasm.Alertf(\"Hello %s!\", *flagName)"
   ]
  },
  {
   "cell_type": "markdown",
   "id": "a4d26900-1ce4-401a-a887-6a8f99776d78",
   "metadata": {},
   "source": [
    "### Simplest Widget: Sum Two Numbers\n",
    "\n",
    "An example of making interactive widgets using Go and WASM inside GoNB.\n",
    "\n",
    "First we define a function that sum numbers given in strings. \n",
    "Notice we run it normally, not yet in Wasm."
   ]
  },
  {
   "cell_type": "code",
   "execution_count": 8,
   "id": "599cd63c-dc05-4a8c-b8fb-43ba8d9ac8b6",
   "metadata": {},
   "outputs": [
    {
     "name": "stdout",
     "output_type": "stream",
     "text": [
      "1 + 2 = 3\n"
     ]
    }
   ],
   "source": [
    "func SumStr(aStr, bStr string) string {\n",
    "    a, err := strconv.Atoi(aStr)\n",
    "    if err != nil {\n",
    "        return \"#invalid\"\n",
    "    }\n",
    "    b, err := strconv.Atoi(bStr)\n",
    "    if err != nil {\n",
    "        return \"#invalid\"\n",
    "    }\n",
    "    x := a+b\n",
    "    if x != 42 {\n",
    "        return strconv.Itoa(x)\n",
    "    } else {\n",
    "        return \"life, the universe and everything ...\"\n",
    "    }\n",
    "}\n",
    "\n",
    "%%\n",
    "fmt.Println(\"1 + 2 =\", SumStr(\"1\", \"2\"))"
   ]
  },
  {
   "cell_type": "markdown",
   "id": "2bc6abc5-ff04-4555-887e-7aa91de49683",
   "metadata": {},
   "source": [
    "Now, we define the Wasm program that creates the input fields and listen to its changes, updating the sum:"
   ]
  },
  {
   "cell_type": "code",
   "execution_count": 10,
   "id": "8aa7b544-2b63-4da9-a7aa-08f36c9244a9",
   "metadata": {},
   "outputs": [
    {
     "data": {
      "text/html": [
       "<script src=\"/files/jupyter_files/22be0bfe/wasm_exec.js\"></script>\n",
       "<script>\n",
       "var go_22be0bfe = new Go();\n",
       " \n",
       "WebAssembly.instantiateStreaming(fetch(\"/files/jupyter_files/22be0bfe/gonb_cell.wasm\"), go_22be0bfe.importObject).\n",
       "\tthen((result) => { go_22be0bfe.run(result.instance); });\n",
       "</script>\n",
       "<div id=\"gonb_id_6ad96910\"></div>\n"
      ]
     },
     "metadata": {},
     "output_type": "display_data"
    }
   ],
   "source": [
    "%wasm\n",
    "import (\n",
    "    \"github.com/janpfeifer/gonb/gonbui/wasm\"\n",
    "    \"syscall/js\"\n",
    ")\n",
    "\n",
    "%%\n",
    "// mainDiv := document.Call(\"getElementById\", GONB_WASM_DIV_ID)\n",
    "// mainDiv.Set(\"innerHTML\", \"<b>Hello World!</b>\")\n",
    "div := wasm.ById(GonbWasmDivId)\n",
    "inputA := wasm.AsInput(wasm.NewElem(\"input\", \"width=10\"))\n",
    "inputB := wasm.AsInput(wasm.NewElem(\"input\", \"width=10\"))\n",
    "result := wasm.AsInput(wasm.NewElem(\"input\", \"width=10\", \"readonly\"))\n",
    "\n",
    "wasm.Append(div, inputA)\n",
    "wasm.AppendHTML(div, \" + \")\n",
    "wasm.Append(div, inputB)\n",
    "wasm.AppendHTML(div, \" + \")\n",
    "wasm.Append(div, result)\n",
    "\n",
    "// Sum numbers whenever they change.\n",
    "updater := func(_ wasm.EventCompatible) {\n",
    "    result.SetValue(SumStr(inputA.Value(), inputB.Value()))\n",
    "}\n",
    "wasm.On(inputA, \"keyup\", updater)\n",
    "wasm.On(inputB, \"keyup\", updater)\n",
    "\n",
    "// Never return, otherwise the Go wasm program stops working and won't update the result.\n",
    "wasm.WaitForever()"
   ]
  }
 ],
 "metadata": {
  "kernelspec": {
   "display_name": "Go (gonb)",
   "language": "go",
   "name": "gonb"
  },
  "language_info": {
   "codemirror_mode": "",
   "file_extension": ".go",
   "mimetype": "",
   "name": "go",
   "nbconvert_exporter": "",
   "pygments_lexer": "",
   "version": "go1.21.0"
  }
 },
 "nbformat": 4,
 "nbformat_minor": 5
}
