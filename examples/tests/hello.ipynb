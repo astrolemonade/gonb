{
 "cells": [
  {
   "cell_type": "code",
   "execution_count": null,
   "id": "ee335105-d971-4641-9f02-b74b16ab2d61",
   "metadata": {},
   "outputs": [],
   "source": [
    "%goflags --cover --covermode=set"
   ]
  },
  {
   "cell_type": "code",
   "execution_count": null,
   "id": "8278e544-c48b-4f34-a151-9b58ac31ae19",
   "metadata": {},
   "outputs": [],
   "source": [
    "%%\n",
    "fmt.Println(\"Hello World!\")"
   ]
  }
 ],
 "metadata": {
  "kernelspec": {
   "display_name": "Go (gonb)",
   "language": "go",
   "name": "gonb"
  },
  "language_info": {
   "codemirror_mode": "",
   "file_extension": ".go",
   "mimetype": "",
   "name": "go",
   "nbconvert_exporter": "",
   "pygments_lexer": "",
   "version": "go1.21.0"
  }
 },
 "nbformat": 4,
 "nbformat_minor": 5
}
