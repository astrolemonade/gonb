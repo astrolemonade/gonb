{
 "cells": [
  {
   "cell_type": "code",
   "execution_count": null,
   "id": "cde3ac14-241f-44ed-91de-7fcbaedf25b3",
   "metadata": {
    "editable": true,
    "slideshow": {
     "slide_type": ""
    },
    "tags": []
   },
   "outputs": [],
   "source": [
    "!echo hello"
   ]
  },
  {
   "cell_type": "code",
   "execution_count": null,
   "id": "382ac8a9-1bd0-4854-91df-5ef8fd14ea3a",
   "metadata": {},
   "outputs": [],
   "source": [
    "!*pwd"
   ]
  },
  {
   "cell_type": "code",
   "execution_count": null,
   "id": "46f77fda-a87a-44ce-8958-a1701f971eb4",
   "metadata": {
    "editable": true,
    "slideshow": {
     "slide_type": ""
    },
    "tags": []
   },
   "outputs": [],
   "source": [
    "!echo $GONB_DIR\n",
    "!echo $GONB_TMP_DIR\n",
    "!echo $GONB_JUPYTER_ROOT\n",
    "!echo $GONB_GIT_ROOT"
   ]
  }
 ],
 "metadata": {
  "kernelspec": {
   "display_name": "Go (gonb)",
   "language": "go",
   "name": "gonb"
  },
  "language_info": {
   "codemirror_mode": "",
   "file_extension": ".go",
   "mimetype": "",
   "name": "go",
   "nbconvert_exporter": "",
   "pygments_lexer": "",
   "version": "go1.21.0"
  }
 },
 "nbformat": 4,
 "nbformat_minor": 5
}
