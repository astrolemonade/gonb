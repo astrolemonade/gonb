{
 "cells": [
  {
   "cell_type": "code",
   "execution_count": 1,
   "id": "35122e7f-3a2a-4d04-a16a-6a99e6814b99",
   "metadata": {},
   "outputs": [
    {
     "name": "stdout",
     "output_type": "stream",
     "text": [
      "/home/janpf\n",
      "/home/janpf/jupyter_files/f076ee11\n",
      "/files/jupyter_files/f076ee11\n"
     ]
    }
   ],
   "source": [
    "%wasm\n",
    "!echo $GONB_JUPYTER_ROOT\n",
    "!echo $GONB_WASM_SUBDIR\n",
    "!echo $GONB_WASM_URL"
   ]
  },
  {
   "cell_type": "code",
   "execution_count": 3,
   "id": "65876109-d2c7-4f71-8c8a-bcf2e2ee674b",
   "metadata": {},
   "outputs": [
    {
     "name": "stdout",
     "output_type": "stream",
     "text": [
      "/home/janpf/Projects/gonb/examples/tests/.wasm/Untitled\n"
     ]
    }
   ],
   "source": [
    "!echo $GONB_WASM_SUBDIR"
   ]
  },
  {
   "cell_type": "code",
   "execution_count": 1,
   "id": "8eba1e4b-50f3-4a58-840e-ec76efec2b07",
   "metadata": {},
   "outputs": [
    {
     "data": {
      "text/html": [
       "<script src=\"/files/jupyter_files/13894961/wasm_exec.js\"></script>\n",
       "<script>\n",
       "var go_13894961 = new Go();\n",
       " \n",
       "WebAssembly.instantiateStreaming(fetch(\"/files/jupyter_files/13894961/gonb_cell.wasm\"), go_13894961.importObject).\n",
       "\tthen((result) => { go_13894961.run(result.instance); });\n",
       "</script>\n",
       "<div id=\"gonb_id_6c65c817\"></div>\n"
      ]
     },
     "metadata": {},
     "output_type": "display_data"
    }
   ],
   "source": [
    "%wasm\n",
    "%%\n",
    "fmt.Printf(\"Wasm Subdir: %s\\n\", GONB_WASM_SUBDIR)\n",
    "fmt.Printf(\"Wasm URL: %s\\n\", GONB_WASM_URL)\n",
    "fmt.Printf(\"Wasm div id: %s\\n\", GONB_WASM_DIV_ID)"
   ]
  }
 ],
 "metadata": {
  "kernelspec": {
   "display_name": "Go (gonb)",
   "language": "go",
   "name": "gonb"
  },
  "language_info": {
   "codemirror_mode": "",
   "file_extension": ".go",
   "mimetype": "",
   "name": "go",
   "nbconvert_exporter": "",
   "pygments_lexer": "",
   "version": "go1.21.0"
  }
 },
 "nbformat": 4,
 "nbformat_minor": 5
}
