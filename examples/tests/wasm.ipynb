{
 "cells": [
  {
   "cell_type": "code",
   "execution_count": 2,
   "id": "35122e7f-3a2a-4d04-a16a-6a99e6814b99",
   "metadata": {},
   "outputs": [
    {
     "name": "stdout",
     "output_type": "stream",
     "text": [
      "/home/janpf\n",
      "/home/janpf/Projects/gonb/examples/tests/.wasm/Untitled\n",
      "/files/Projects/gonb/examples/tests/.wasm/Untitled\n"
     ]
    }
   ],
   "source": [
    "%wasm\n",
    "!echo $GONB_JUPYTER_ROOT\n",
    "!echo $GONB_WASM_SUBDIR\n",
    "!echo $GONB_WASM_URL"
   ]
  }
 ],
 "metadata": {
  "kernelspec": {
   "display_name": "Go (gonb)",
   "language": "go",
   "name": "gonb"
  },
  "language_info": {
   "codemirror_mode": "",
   "file_extension": ".go",
   "mimetype": "",
   "name": "go",
   "nbconvert_exporter": "",
   "pygments_lexer": "",
   "version": "go1.21.0"
  }
 },
 "nbformat": 4,
 "nbformat_minor": 5
}
