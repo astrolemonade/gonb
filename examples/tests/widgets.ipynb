{
 "cells": [
  {
   "cell_type": "markdown",
   "id": "dc4c1354-bf95-4ad6-9197-64cac3fa1111",
   "metadata": {},
   "source": [
    "# Widgets Tests\n",
    "\n",
    "Tests various widgets in package `github.com/janpfeifer/gonb/gonbui/widgets`."
   ]
  },
  {
   "cell_type": "code",
   "execution_count": 1,
   "id": "82c87035-c921-4175-adee-176fb3ea2568",
   "metadata": {},
   "outputs": [
    {
     "name": "stdout",
     "output_type": "stream",
     "text": [
      "%goflags=[\"--cover\" \"--covermode=set\"]\n"
     ]
    }
   ],
   "source": [
    "%goflags --cover --covermode=set"
   ]
  },
  {
   "cell_type": "code",
   "execution_count": 2,
   "id": "991075d2-cb0e-4c17-97ec-64174d69b9df",
   "metadata": {},
   "outputs": [
    {
     "name": "stdout",
     "output_type": "stream",
     "text": [
      "ok\n"
     ]
    }
   ],
   "source": [
    "!if [[ \"${GONB_GIT_ROOT}\" == \"\" ]] ; then \\\n",
    "    echo \"Please set GONB_GIT_ROOT before runnig this notebook!\" 1>&2 ; \\\n",
    "else \\\n",
    "    echo \"ok\" ; \\\n",
    "fi"
   ]
  },
  {
   "cell_type": "code",
   "execution_count": 3,
   "id": "79012c7d-ff26-4dc8-b9f5-684e09d49039",
   "metadata": {},
   "outputs": [
    {
     "name": "stdout",
     "output_type": "stream",
     "text": [
      "\t- Added replace rule for module \"github.com/janpfeifer/gonb\" to local directory \"/home/janpf/Projects/gonb\".\n"
     ]
    }
   ],
   "source": [
    "!*rm -f go.work && go work init && go work use . \"${GONB_GIT_ROOT}\"\n",
    "%goworkfix"
   ]
  },
  {
   "cell_type": "markdown",
   "id": "5a2ecd95-60f6-4c65-8117-662220a250e1",
   "metadata": {},
   "source": [
    "### Buttons\n",
    "\n",
    "Create a button and induce a click on it using Javacript.\n",
    "It should print out \"ok\" if the button was clicked or \"error\" if it times out.\n",
    "\n",
    "Notice to avoid the race condition of the button being clicked before we start listening to\n",
    "it, we add a buffer of 1 to the channel.\n",
    "\n",
    "We also create a transient div, and append the button there -- making the button not appear after it is saved.\n",
    "No real need for that, other than to also test the `AppendTo` method."
   ]
  },
  {
   "cell_type": "code",
   "execution_count": 4,
   "id": "0bc8019a-ee78-4e9a-a603-3de6b5915b0b",
   "metadata": {},
   "outputs": [
    {
     "data": {
      "text/html": [
       "<div id=\"dom.transient_div_902ca91a\"></div>"
      ]
     },
     "metadata": {},
     "output_type": "display_data"
    },
    {
     "data": {
      "text/html": []
     },
     "metadata": {},
     "output_type": "display_data"
    },
    {
     "data": {
      "text/html": []
     },
     "metadata": {},
     "output_type": "display_data"
    },
    {
     "name": "stdout",
     "output_type": "stream",
     "text": [
      "clicked\n"
     ]
    }
   ],
   "source": [
    "import (\n",
    "    \"github.com/janpfeifer/gonb/gonbui\"\n",
    "    \"github.com/janpfeifer/gonb/gonbui/dom\"\n",
    "    \"github.com/janpfeifer/gonb/gonbui/widgets\"\n",
    ")\n",
    "\n",
    "%%\n",
    "htmlId := \"gonb_slider_\" + gonbui.UniqueId()  // Not needed, just so we test HtmlId() method below.\n",
    "rootId := dom.CreateTransientDiv()  // Not needed, just so we test AppentTo() method below.\n",
    "button := widgets.Button(\"Ok\").HtmlId(htmlId).AppendTo(rootId).Done()\n",
    "buttonChannel := button.Listen().WithBuffer(1)\n",
    "if button.GetHtmlId() != htmlId {\n",
    "    fmt.Println(\"error: wrong htmlId\")\n",
    "    return\n",
    "}\n",
    "\n",
    "// Click on button with Javascript after 100ms.\n",
    "go func() {\n",
    "    time.Sleep(100 * time.Millisecond);\n",
    "    dom.TransientJavascript(fmt.Sprintf(`\n",
    "(() => {\n",
    "    let button = document.getElementById(\"%s\");\n",
    "    button.click();\n",
    "    console.log(\"Clicked!\");\n",
    "})();\n",
    "`, button.GetHtmlId()))\n",
    "}()\n",
    "\n",
    "// Wait for button click or timeout.\n",
    "select {\n",
    "case <-buttonChannel.C:\n",
    "    fmt.Println(\"clicked\")\n",
    "case <-time.After(500 * time.Millisecond):\n",
    "    fmt.Println(\"error\")\n",
    "}\n",
    "buttonChannel.Close()\n"
   ]
  },
  {
   "cell_type": "markdown",
   "id": "56c9e305-5e67-4c12-8e28-d5c5ef6623c0",
   "metadata": {},
   "source": [
    "### Sliders\n",
    "\n",
    "We create a slider, and then interact with it with Javascript and test we get the correct reading."
   ]
  },
  {
   "cell_type": "code",
   "execution_count": 5,
   "id": "c81a91e5-f392-4def-b861-a50aa6ca0734",
   "metadata": {},
   "outputs": [
    {
     "data": {
      "text/html": [
       "<div id=\"dom.transient_div_d4ae827c\"></div>"
      ]
     },
     "metadata": {},
     "output_type": "display_data"
    },
    {
     "data": {
      "text/html": []
     },
     "metadata": {},
     "output_type": "display_data"
    },
    {
     "name": "stdout",
     "output_type": "stream",
     "text": [
      "slider correctly set\n"
     ]
    }
   ],
   "source": [
    "%%\n",
    "const answer = 42\n",
    "\n",
    "htmlId := \"gonb_slider_\" + gonbui.UniqueId()  // Not needed, just so we test HtmlId() method below.\n",
    "rootId := dom.CreateTransientDiv()  // Not needed, just so we test AppentTo() method below.\n",
    "slider := widgets.Slider(0, 100, 50).HtmlId(htmlId).AppendTo(rootId).Done()\n",
    "sliderChan := slider.Listen().WithBuffer(1)\n",
    "if slider.GetHtmlId() != htmlId {\n",
    "    fmt.Println(\"error: wrong htmlId\")\n",
    "    return\n",
    "}\n",
    "\n",
    "go func() {\n",
    "    time.Sleep(100 * time.Millisecond);\n",
    "    dom.TransientJavascript(fmt.Sprintf(`\n",
    "(() => {\n",
    "    let slider = document.getElementById(\"%s\");\n",
    "    const answer = %d;\n",
    "    slider.value = answer;  // Doesn't trigger \"change\" event, unfortunately.\n",
    "    slider.dispatchEvent(new Event(\"change\"));\n",
    "    console.log(\"Slider set to \"+answer);\n",
    "})();\n",
    "`, slider.GetHtmlId(), answer))\n",
    "}()\n",
    "\n",
    "// Wait for slider change or timeout.\n",
    "select {\n",
    "case newValue := <-sliderChan.C:\n",
    "    time.Sleep(100 * time.Millisecond)  // Make sure slider also received the update.\n",
    "    // Checks we receive the new value, and that the slider object also recorded it.\n",
    "    if newValue != answer || slider.GetValue() != answer {\n",
    "        fmt.Printf(\"error: received %d, slider registered %d\", newValue, slider.GetValue())\n",
    "    } else  {\n",
    "        fmt.Println(\"slider correctly set\")\n",
    "    }\n",
    "case <-time.After(500000 * time.Millisecond):\n",
    "    fmt.Println(\"error: timedout\")\n",
    "}"
   ]
  }
 ],
 "metadata": {
  "kernelspec": {
   "display_name": "Go (gonb)",
   "language": "go",
   "name": "gonb"
  },
  "language_info": {
   "codemirror_mode": "",
   "file_extension": ".go",
   "mimetype": "",
   "name": "go",
   "nbconvert_exporter": "",
   "pygments_lexer": "",
   "version": "go1.21.0"
  }
 },
 "nbformat": 4,
 "nbformat_minor": 5
}
