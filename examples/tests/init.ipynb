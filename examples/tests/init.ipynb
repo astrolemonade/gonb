{
 "cells": [
  {
   "cell_type": "code",
   "execution_count": null,
   "id": "34b14999-3f4a-497b-991a-99675035d44f",
   "metadata": {},
   "outputs": [],
   "source": [
    "func init_a() {\n",
    "    fmt.Println(\"init_a\")\n",
    "}"
   ]
  },
  {
   "cell_type": "code",
   "execution_count": null,
   "id": "2db16bf2-504f-4259-8dc4-7c0ff96551d2",
   "metadata": {},
   "outputs": [],
   "source": [
    "func init_b() {\n",
    "    fmt.Println(\"init_b\")\n",
    "}"
   ]
  },
  {
   "cell_type": "code",
   "execution_count": null,
   "id": "9ffbcc38-5abc-4b31-a5a5-ebd22b705f57",
   "metadata": {},
   "outputs": [],
   "source": [
    "func init() {\n",
    "    fmt.Println(\"init: v0\")\n",
    "}"
   ]
  },
  {
   "cell_type": "code",
   "execution_count": null,
   "id": "5fdc03e1-5115-4aac-8d77-73a447d189ef",
   "metadata": {},
   "outputs": [],
   "source": [
    "func init() {\n",
    "    fmt.Println(\"init: v1\")\n",
    "}"
   ]
  },
  {
   "cell_type": "code",
   "execution_count": null,
   "id": "ccee8f11-14ae-41c6-8463-6d9c39f03c3f",
   "metadata": {},
   "outputs": [],
   "source": [
    "%rm init_a init_b"
   ]
  },
  {
   "cell_type": "code",
   "execution_count": null,
   "id": "d7381d2f-4f9b-4f2f-981c-7be523427878",
   "metadata": {},
   "outputs": [],
   "source": [
    "%%\n",
    "fmt.Println(\"Done\")"
   ]
  }
 ],
 "metadata": {
  "kernelspec": {
   "display_name": "Go (gonb)",
   "language": "go",
   "name": "gonb"
  },
  "language_info": {
   "codemirror_mode": "",
   "file_extension": ".go",
   "mimetype": "",
   "name": "go",
   "nbconvert_exporter": "",
   "pygments_lexer": "",
   "version": "go1.21.0"
  }
 },
 "nbformat": 4,
 "nbformat_minor": 5
}
